{
 "cells": [
  {
   "cell_type": "markdown",
   "metadata": {
    "button": false,
    "deletable": true,
    "new_sheet": false,
    "run_control": {
     "read_only": false
    }
   },
   "source": [
    "# Preparation "
   ]
  },
  {
   "cell_type": "code",
   "execution_count": null,
   "metadata": {
    "button": false,
    "collapsed": true,
    "deletable": true,
    "new_sheet": false,
    "run_control": {
     "read_only": false
    }
   },
   "outputs": [],
   "source": [
    "#Download telegram on your phone or/and computer\n",
    "\n",
    "#Create an bot and copy the token to \"botToken\" variabele \n",
    "##See this link for instructions https://medium.com/@ManHay_Hong/how-to-create-a-telegram-bot-and-send-messages-with-python-4cf314d9fa3e\n",
    "\n",
    "#To get your 'botChatID' do\n",
    "##search on telegram @chatid_echo_bot and tap /start. It will echo your chat id.\n",
    "\n",
    "#Choose the process you want to monitor it uses: ps aux|grep <process>"
   ]
  },
  {
   "cell_type": "code",
   "execution_count": null,
   "metadata": {
    "button": false,
    "collapsed": true,
    "deletable": true,
    "new_sheet": false,
    "run_control": {
     "read_only": false
    }
   },
   "outputs": [],
   "source": [
    "import requests\n",
    "import subprocess\n",
    "import time\n",
    "\n",
    "##########################################\n",
    "#To Config <----------------------------\n",
    "botToken = 'PLEASE-FILL'\n",
    "botChatID = 'PLEASE-FILL'\n",
    "processToCheck='testing.py' #what process should be checked #ps aux|grep <process>\n",
    "\n",
    "processTestInterval_sleepTime=30 #secounds in between each test run\n",
    "maxNumSendMsg_failedProcess=5 #Maximum number of messages after process failed"
   ]
  },
  {
   "cell_type": "markdown",
   "metadata": {
    "button": false,
    "deletable": true,
    "new_sheet": false,
    "run_control": {
     "read_only": false
    }
   },
   "source": [
    "### Helper function"
   ]
  },
  {
   "cell_type": "code",
   "execution_count": null,
   "metadata": {
    "button": false,
    "collapsed": true,
    "deletable": true,
    "new_sheet": false,
    "run_control": {
     "read_only": false
    }
   },
   "outputs": [],
   "source": [
    "#Wrap test, so it is better to see the message\n",
    "def addTestFrame(text_str):\n",
    "    text_str='#'*10+'\\n'+text_str+'\\n'+'#'*10\n",
    "    return str(text_str)"
   ]
  },
  {
   "cell_type": "markdown",
   "metadata": {
    "button": false,
    "deletable": true,
    "new_sheet": false,
    "run_control": {
     "read_only": false
    }
   },
   "source": [
    "## Function to send a message via telegram"
   ]
  },
  {
   "cell_type": "code",
   "execution_count": null,
   "metadata": {
    "button": false,
    "collapsed": true,
    "deletable": true,
    "new_sheet": false,
    "run_control": {
     "read_only": false
    }
   },
   "outputs": [],
   "source": [
    "def telegram_bot_sendMessageV2(message):\n",
    "    payload = {\n",
    "        'chat_id': botChatID,\n",
    "        'text': message,\n",
    "        'parse_mode': 'HTML'}\n",
    "    return requests.post(\"https://api.telegram.org/bot{token}/sendMessage\".format(token=botToken), data=payload).content"
   ]
  },
  {
   "cell_type": "markdown",
   "metadata": {
    "button": false,
    "deletable": true,
    "new_sheet": false,
    "run_control": {
     "read_only": false
    }
   },
   "source": [
    "## Get the state of a process via 'ps aux'"
   ]
  },
  {
   "cell_type": "code",
   "execution_count": null,
   "metadata": {
    "button": false,
    "collapsed": true,
    "deletable": true,
    "new_sheet": false,
    "run_control": {
     "read_only": false
    }
   },
   "outputs": [],
   "source": [
    "def getProceessStatus(processStr):\n",
    "    cmd = \"ps aux|grep '\"+processStr+\"'|grep -v grep |awk '{print $0}'\"\n",
    "    result = subprocess.run(cmd, stdout=subprocess.PIPE,shell=True)\n",
    "    psaux_result=((result.stdout).decode('utf-8')).split()\n",
    "    \n",
    "    #Test whether process is running\n",
    "    if len(psaux_result)==0:\n",
    "        return False #Process is not running\n",
    "    else:\n",
    "        return str(psaux_result) #Process is running, return process details"
   ]
  },
  {
   "cell_type": "markdown",
   "metadata": {
    "button": false,
    "deletable": true,
    "new_sheet": false,
    "run_control": {
     "read_only": false
    }
   },
   "source": [
    "## Loop to check every periode the process\n"
   ]
  },
  {
   "cell_type": "code",
   "execution_count": null,
   "metadata": {
    "button": false,
    "collapsed": true,
    "deletable": true,
    "new_sheet": false,
    "run_control": {
     "read_only": false
    }
   },
   "outputs": [],
   "source": [
    "maxSendCounter=0\n",
    "\n",
    "def testProcessStatusAndSend(notificationIfRunning=False):\n",
    "    global maxSendCounter\n",
    "    \n",
    "    psaux_result=getProceessStatus(processToCheck)\n",
    "    \n",
    "    #Decide what notification sending to the telegram bot\n",
    "    if psaux_result==False and maxSendCounter<=maxNumSendMsg_failedProcess:\n",
    "        message=str('!!!!!!!!!!! Process: '+ processToCheck+ ' is not running anymore !!!!!!!!!!!')\n",
    "        maxSendCounter+=1\n",
    "        return telegram_bot_sendMessageV2(message)\n",
    "    \n",
    "    #Send a message that the process is still running\n",
    "    if psaux_result!=False and notificationIfRunning==True:\n",
    "        message='Process: '+ processToCheck+' is still running'\n",
    "        maxSendCounter=0 #Set counter back to zero afer process is back running\n",
    "        return telegram_bot_sendMessageV2(message)\n",
    "    \n",
    "    #Send message if the process is running again after the process stopped\n",
    "    if psaux_result!=False and maxSendCounter>0:\n",
    "        message='Process: '+ processToCheck+' is again !!!!!!!!!!!'\n",
    "        maxSendCounter=0 #Set counter back to zero afer process is back running\n",
    "        return telegram_bot_sendMessageV2(message)    "
   ]
  },
  {
   "cell_type": "markdown",
   "metadata": {
    "button": false,
    "deletable": true,
    "new_sheet": false,
    "run_control": {
     "read_only": false
    }
   },
   "source": [
    "## 'Main' function\n",
    "#### This function will loop and checks the process"
   ]
  },
  {
   "cell_type": "code",
   "execution_count": null,
   "metadata": {
    "button": false,
    "collapsed": true,
    "deletable": true,
    "new_sheet": false,
    "run_control": {
     "read_only": false
    }
   },
   "outputs": [],
   "source": [
    "startTime=time.time() #Start time\n",
    "hoursRunning=1 #Send still alive after one hour\n",
    "#numSendMsg_failedProcess_couner=0 #Used for counting\n",
    "#Send start notification\n",
    "telegram_bot_sendMessageV2(addTestFrame('Start watching process: '+processToCheck))\n",
    "testProcessStatusAndSend(notificationIfRunning=True)\n",
    "while True:\n",
    "    #Check process\n",
    "    \n",
    "    testProcessStatusAndSend()\n",
    "    \n",
    "    #Wait until the next check\n",
    "    time.sleep(processTestInterval_sleepTime)\n",
    "    \n",
    "    #Sends every hour a still alive message\n",
    "    if time.time()>(hoursRunning*60*60)+startTime:\n",
    "        #Send hourly still alive message\n",
    "        message=':) Still watching process: '+ processToCheck+'!!!'\n",
    "        telegram_bot_sendMessageV2(message)\n",
    "        hoursRunning+=1"
   ]
  },
  {
   "cell_type": "markdown",
   "metadata": {
    "button": false,
    "deletable": true,
    "new_sheet": false,
    "run_control": {
     "read_only": false
    }
   },
   "source": []
  }
 ],
 "metadata": {
  "kernelspec": {
   "display_name": "Python 3",
   "language": "python",
   "name": "python3"
  },
  "language_info": {
   "codemirror_mode": {
    "name": "ipython",
    "version": 3
   },
   "file_extension": ".py",
   "mimetype": "text/x-python",
   "name": "python",
   "nbconvert_exporter": "python",
   "pygments_lexer": "ipython3",
   "version": "3.5.0"
  }
 },
 "nbformat": 4,
 "nbformat_minor": 4
}
